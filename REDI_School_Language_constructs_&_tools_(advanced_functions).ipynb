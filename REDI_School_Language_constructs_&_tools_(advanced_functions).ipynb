{
  "nbformat": 4,
  "nbformat_minor": 0,
  "metadata": {
    "colab": {
      "provenance": [],
      "include_colab_link": true
    },
    "kernelspec": {
      "name": "python3",
      "display_name": "Python 3"
    },
    "language_info": {
      "name": "python"
    }
  },
  "cells": [
    {
      "cell_type": "markdown",
      "metadata": {
        "id": "view-in-github",
        "colab_type": "text"
      },
      "source": [
        "<a href=\"https://colab.research.google.com/github/Qimeri/Git-HUB/blob/main/REDI_School_Language_constructs_%26_tools_(advanced_functions).ipynb\" target=\"_parent\"><img src=\"https://colab.research.google.com/assets/colab-badge.svg\" alt=\"Open In Colab\"/></a>"
      ]
    },
    {
      "cell_type": "markdown",
      "source": [
        "# **Advanced Function**\n",
        "\n",
        "\n",
        "- Variable Arguments\n",
        "- Closures\n",
        "- Decorator\n"
      ],
      "metadata": {
        "id": "n6T3LiZk4zPH"
      }
    },
    {
      "cell_type": "markdown",
      "source": [
        "**Variable Arguments**\n",
        "\n",
        "In Python, we can define functions with variable arguments using the *args and **kwargs syntax.\n",
        "\n",
        "\n",
        "Positional arguments, or *args, are tuples that are captured after the defined parameters and can contain any number of positional arguments supplied to the function.\n",
        "\n",
        "**kwargs (keyword arguments): Holds a dictionary containing all keyword arguments that are passed to the function beyond the parameters that have been defined.\n"
      ],
      "metadata": {
        "id": "_5ouId5r5avi"
      }
    },
    {
      "cell_type": "code",
      "execution_count": null,
      "metadata": {
        "id": "QV7A27A74rkX"
      },
      "outputs": [],
      "source": [
        "#Using the *args syntax\n",
        "def greet_multiple(*names):\n",
        "    for name in names:\n",
        "        print(f\"Hello, {name}!\")\n",
        "\n"
      ]
    },
    {
      "cell_type": "code",
      "source": [
        "greet_multiple(\"Mic\", \"Mattie\", \"James\", \"John\")"
      ],
      "metadata": {
        "colab": {
          "base_uri": "https://localhost:8080/"
        },
        "id": "a864qlC9dOT9",
        "outputId": "b2281164-42aa-44ed-dd38-568d795ae28a"
      },
      "execution_count": null,
      "outputs": [
        {
          "output_type": "stream",
          "name": "stdout",
          "text": [
            "Hello, Mic!\n",
            "Hello, Mattie!\n",
            "Hello, James!\n",
            "Hello, John!\n"
          ]
        }
      ]
    },
    {
      "cell_type": "code",
      "source": [
        "#Write a code to accept REDI Student in class and Print the Greetings for each students\n"
      ],
      "metadata": {
        "id": "rSQ6wEoZfv0P"
      },
      "execution_count": null,
      "outputs": []
    },
    {
      "cell_type": "code",
      "source": [
        "#using the *kwargs syntax\n",
        "def greet_multiple(**people):\n",
        "    for name, age in people.items():\n",
        "        print(f\"Hello, {name}! You are {age} years old.\")\n",
        "\n"
      ],
      "metadata": {
        "id": "aOpXHX6VeA3Q"
      },
      "execution_count": null,
      "outputs": []
    },
    {
      "cell_type": "code",
      "source": [
        "#Test the *kwargs syntax\n",
        "greet_multiple(Mateo=18, Maxi=25, Romie=30)"
      ],
      "metadata": {
        "colab": {
          "base_uri": "https://localhost:8080/"
        },
        "id": "6LtctdgCeGIP",
        "outputId": "6ddd59ae-8100-4df8-cab4-b49c93db842b"
      },
      "execution_count": null,
      "outputs": [
        {
          "output_type": "stream",
          "name": "stdout",
          "text": [
            "Hello, Mateo! You are 18 years old.\n",
            "Hello, Maxi! You are 25 years old.\n",
            "Hello, Romie! You are 30 years old.\n"
          ]
        }
      ]
    },
    {
      "cell_type": "code",
      "source": [
        "#Class Work\n",
        "#using the *kwargs syntax to print Student name and favourite Number\n"
      ],
      "metadata": {
        "id": "3R4tf6yf0wEb"
      },
      "execution_count": null,
      "outputs": []
    },
    {
      "cell_type": "code",
      "source": [
        "#using a args function to find average of an unspecified amount of numbers\n",
        "def calculate_average(*numbers):\n",
        "  \"\"\" Calculates the average of an given number of numbers\"\"\"\n",
        "  total = sum(numbers)\n",
        "  return total / len(numbers)\n"
      ],
      "metadata": {
        "id": "DBtj4HO_esJq"
      },
      "execution_count": null,
      "outputs": []
    },
    {
      "cell_type": "code",
      "source": [
        "# Example of usage\n",
        "NumSample1 = calculate_average(10, 20, 30, 40)\n",
        "NumSample2 = calculate_average(15, 25, 40)\n",
        "NumSample3 = calculate_average(7, 14, 28)  # Even two arguments work"
      ],
      "metadata": {
        "id": "ezyEhLjGe0Ra"
      },
      "execution_count": null,
      "outputs": []
    },
    {
      "cell_type": "code",
      "source": [
        "print(f\"Average of 15, 25, 40 is : {NumSample12}\")"
      ],
      "metadata": {
        "id": "kPEkrHARfjVp"
      },
      "execution_count": null,
      "outputs": []
    },
    {
      "cell_type": "code",
      "source": [
        "#What do we notice about the outout from the qery below\n",
        "\n",
        "print(f\"Average of 15, 25, 40 is : {NumSample12}\")"
      ],
      "metadata": {
        "colab": {
          "base_uri": "https://localhost:8080/"
        },
        "id": "VpIXQ5RdfHz2",
        "outputId": "ae30f0e0-0d67-4111-9b2b-b3244b78f665"
      },
      "execution_count": null,
      "outputs": [
        {
          "output_type": "stream",
          "name": "stdout",
          "text": [
            "Average of 15, 25, 40 is : 26.666666666666668\n"
          ]
        }
      ]
    },
    {
      "cell_type": "code",
      "source": [
        "print(f\"Average of 10, 20, 30 is: {NumSample2}\")"
      ],
      "metadata": {
        "colab": {
          "base_uri": "https://localhost:8080/"
        },
        "id": "qfw2uwEXe1Xr",
        "outputId": "a9f9c891-d507-49d4-c26e-ea11867fb6a7"
      },
      "execution_count": null,
      "outputs": [
        {
          "output_type": "stream",
          "name": "stdout",
          "text": [
            "Average of 10, 20, 30 is: 26.666666666666668\n"
          ]
        }
      ]
    },
    {
      "cell_type": "code",
      "source": [
        "#Class Work\n",
        "\n",
        "def add(*args):\n",
        "    result = 0 #initialize the value of the result to be zero\n",
        "    for num in args:\n",
        "        result += num\n",
        "    return result\n",
        "\n"
      ],
      "metadata": {
        "id": "z9_FDmMlgpD4"
      },
      "execution_count": null,
      "outputs": []
    },
    {
      "cell_type": "code",
      "source": [
        "print(add(1, 2, 3))\n",
        "\n"
      ],
      "metadata": {
        "id": "IsyoXDUGkF8H"
      },
      "execution_count": null,
      "outputs": []
    },
    {
      "cell_type": "code",
      "source": [
        "print(add(1, 2, 3, 4, 5))"
      ],
      "metadata": {
        "id": "DS_U9JF2kQPe"
      },
      "execution_count": null,
      "outputs": []
    },
    {
      "cell_type": "markdown",
      "source": [
        "\n",
        "**Closure**\n",
        "\n",
        "A function that may access both its own and its parent functions' scopes is known as a closure. This enables us to design functions that are able to \"remember\" their surroundings.\n",
        "\n",
        "Hints for CLosure\n",
        "- A function that may access both its own and its parent functions' scopes is known as a closure.\n",
        "- When a function is defined inside another function, a closure is produced.\n",
        "- The inner function has access to the variables and functionalities of the outer function even after it has completed running.\n",
        "- When you want to write a function that can access both its own scope and the scope of its parent functions, closures come in handy.\n"
      ],
      "metadata": {
        "id": "_XENBMgGgqw4"
      }
    },
    {
      "cell_type": "code",
      "source": [
        "#Example 1 of a Closure\n",
        "\n",
        "def make_multiplier(x):\n",
        "  \"\"\"\n",
        "  A function that returns another function that multiplies by x.\n",
        "  \"\"\"\n",
        "  def multiplier(y):\n",
        "    return x * y\n",
        "  return multiplier\n"
      ],
      "metadata": {
        "id": "NOBQa4Fxg607"
      },
      "execution_count": null,
      "outputs": []
    },
    {
      "cell_type": "markdown",
      "source": [
        "**Explanation for the example above**\n",
        "\n",
        "There is a function inside a function.\n",
        "\n",
        "The *make_multiplier* function takes an argument named x and defines a nested function multiplier.\n",
        "\n",
        "When *make_multiplier* is called, the inner function *multiplier* is returned."
      ],
      "metadata": {
        "id": "6ZPuwaAVixMJ"
      }
    },
    {
      "cell_type": "code",
      "source": [
        "\n",
        "# Create functions with different multipliers\n",
        "doublerNum = make_multiplier(2)\n",
        "triplerNum = make_multiplier(3)\n"
      ],
      "metadata": {
        "id": "aYm72eHtg64T"
      },
      "execution_count": null,
      "outputs": []
    },
    {
      "cell_type": "code",
      "source": [
        "print(doublerNum(2))"
      ],
      "metadata": {
        "colab": {
          "base_uri": "https://localhost:8080/"
        },
        "id": "9BbBNdNdiLYn",
        "outputId": "0ac6d2c4-abd6-493a-b6cc-251c371788c5"
      },
      "execution_count": null,
      "outputs": [
        {
          "output_type": "stream",
          "name": "stdout",
          "text": [
            "4\n"
          ]
        }
      ]
    },
    {
      "cell_type": "code",
      "source": [
        "# Call the returned functions\n",
        "print(doublerNum(5))\n",
        "print(triplerNum(7))\n",
        "\n",
        "# Notice that x (multiplier value) is specific to each returned function\n"
      ],
      "metadata": {
        "colab": {
          "base_uri": "https://localhost:8080/"
        },
        "id": "d03A1-Otg6-U",
        "outputId": "f8ac149c-0fdd-4058-b62b-6ee82fde7308"
      },
      "execution_count": null,
      "outputs": [
        {
          "output_type": "stream",
          "name": "stdout",
          "text": [
            "10\n",
            "21\n"
          ]
        }
      ]
    },
    {
      "cell_type": "code",
      "source": [
        "#Example 2 of Closure\n",
        "\n",
        "def create_counter():\n",
        "    count = 0\n",
        "    def counter():\n",
        "        nonlocal count\n",
        "        count += 1\n",
        "        return count\n",
        "    return counter\n"
      ],
      "metadata": {
        "id": "QBlDQS5Og7Di"
      },
      "execution_count": null,
      "outputs": []
    },
    {
      "cell_type": "code",
      "source": [
        "counter = create_counter()\n",
        "print(counter())\n",
        "print(counter())\n",
        "print(counter())"
      ],
      "metadata": {
        "colab": {
          "base_uri": "https://localhost:8080/"
        },
        "id": "Kd8VEmNfg7Gp",
        "outputId": "ed6cad92-7105-436f-a676-ff5e8e729119"
      },
      "execution_count": null,
      "outputs": [
        {
          "output_type": "stream",
          "name": "stdout",
          "text": [
            "1\n",
            "2\n",
            "3\n"
          ]
        }
      ]
    },
    {
      "cell_type": "code",
      "source": [
        "firstTest = create_counter()\n",
        "print(firstTest())"
      ],
      "metadata": {
        "colab": {
          "base_uri": "https://localhost:8080/"
        },
        "id": "CEU3GGoSkgbx",
        "outputId": "9c0fc046-ad1a-4ce9-cfcd-e780e7fe8422"
      },
      "execution_count": null,
      "outputs": [
        {
          "output_type": "stream",
          "name": "stdout",
          "text": [
            "1\n"
          ]
        }
      ]
    },
    {
      "cell_type": "code",
      "source": [
        "#Class Work\n",
        "#What do you notice with the line of code below when compared to the code above\n",
        "print(firstTest())"
      ],
      "metadata": {
        "colab": {
          "base_uri": "https://localhost:8080/"
        },
        "id": "P0LXlYHnlMlX",
        "outputId": "7ea1a45a-3601-494d-c160-f8ebc369a3a3"
      },
      "execution_count": null,
      "outputs": [
        {
          "output_type": "stream",
          "name": "stdout",
          "text": [
            "2\n"
          ]
        }
      ]
    },
    {
      "cell_type": "code",
      "source": [
        "print(firstTest())"
      ],
      "metadata": {
        "colab": {
          "base_uri": "https://localhost:8080/"
        },
        "id": "fu_U50QvlXtQ",
        "outputId": "c31bf07b-c514-4c82-a507-764b26bc2a67"
      },
      "execution_count": null,
      "outputs": [
        {
          "output_type": "stream",
          "name": "stdout",
          "text": [
            "3\n"
          ]
        }
      ]
    },
    {
      "cell_type": "code",
      "source": [
        "##Class Work\n",
        "#What do you notice with the line of code below\n",
        "print(firstTest)"
      ],
      "metadata": {
        "id": "h5mGsur5ldE7"
      },
      "execution_count": null,
      "outputs": []
    },
    {
      "cell_type": "code",
      "source": [
        "#Examples of Closures\n",
        "def outer():\n",
        "\tx = 10\n",
        "\tdef inner1():\n",
        "\t\tprint(x)\n",
        "\tdef inner2():\n",
        "\t\tprint(x * 2)\n",
        "\treturn inner1, inner2\n",
        "\n"
      ],
      "metadata": {
        "id": "NN3t3jQl1Or3"
      },
      "execution_count": null,
      "outputs": []
    },
    {
      "cell_type": "code",
      "source": [
        "closure1, closure2 = outer()"
      ],
      "metadata": {
        "id": "ZGzMQ_2f1huN"
      },
      "execution_count": null,
      "outputs": []
    },
    {
      "cell_type": "code",
      "source": [
        "closure1()\n",
        "closure2()"
      ],
      "metadata": {
        "id": "xs7ebKAt1j5b"
      },
      "execution_count": null,
      "outputs": []
    },
    {
      "cell_type": "markdown",
      "source": [
        "**Decorator**\n",
        "\n",
        "A unique kind of function called a decorator has the ability to alter or expand the behaviour of another function. The @ symbol is used to indicate them.\n",
        "\n",
        "\n",
        "@symbol is a decorator syntax in Python.\n",
        "It is a shorthand way of applying a function to the function that follows it.\n",
        "\n",
        "For example below:\n",
        "@my_decorator is a decorator syntax in Python. It applies my_decorator to the function that follows it.\n",
        "\n",
        "\n",
        "**Some popular decorators in Python include:**\n",
        "- @property\n",
        "- @classmethod\n",
        "- @staticmethod\n",
        "- @functools.wraps\n",
        "- @functools.lru_cache\n",
        "- @functools.singledispatch\n",
        "\n",
        "Application of decorators include:\n",
        "- Logging\n",
        "- Authentication\n",
        "- Caching\n",
        "- Memoization\n",
        "- Retry logic\n",
        "- AOP (Aspect-Oriented Programming)\n"
      ],
      "metadata": {
        "id": "VkZjxWDqg7RW"
      }
    },
    {
      "cell_type": "markdown",
      "source": [
        "**Key points to remember about decorators:**\n",
        "\n",
        "- A decorator is a small function that takes another function as an argument.\n",
        "- A decorator returns a new function that \"wraps\" the original function.\n",
        "- The new function produced by the decorator is called instead of the original function when it's invoked.\n",
        "- Decorators can be used to add additional functionality to existing functions.\n",
        "- Decorators can be used to implement aspects of functional programming.\n",
        "\n",
        "Example of Decorator s @property\n",
        "@property\n",
        "\n",
        "\n",
        "The @property decorator is used to customize access to instance data.\n",
        "It allows you to define getters and setters for instance attributes.\n"
      ],
      "metadata": {
        "id": "nz0dfgZk3jMg"
      }
    },
    {
      "cell_type": "code",
      "source": [
        "#Example of  @property\n",
        "\n",
        "class Person:\n",
        "    def __init__(self, name):\n",
        "        self._name = name\n",
        "\n",
        "    @property\n",
        "    def name(self):\n",
        "        return self._name\n",
        "\n",
        "    @name.setter\n",
        "    def name(self, value):\n",
        "        self._name = value\n",
        "\n",
        "p = Person(\"John\")\n",
        "print(p.name)  # prints \"John\"\n",
        "p.name = \"Jane\"\n",
        "print(p.name)  # prints \"Jane\""
      ],
      "metadata": {
        "id": "31wChxC43WOi"
      },
      "execution_count": null,
      "outputs": []
    },
    {
      "cell_type": "code",
      "source": [
        "#staticmethod example\n",
        "class MyClass:\n",
        "    @staticmethod\n",
        "    def my_method():\n",
        "        print(\"This is a static method\")\n",
        "\n",
        "MyClass.my_method()  # prints \"This is a static method\""
      ],
      "metadata": {
        "id": "gANiwmIY3OHw"
      },
      "execution_count": null,
      "outputs": []
    },
    {
      "cell_type": "code",
      "source": [
        "#Example 1 of Decorator\n",
        "\n",
        "def my_decorator(func):\n",
        "    def wrapper(): #Inside wrapper, func() is called\n",
        "        print(\"So so so so events is happening before the function is called.\")\n",
        "        func() #This func() which is equivalent to calling say_hello().\n",
        "        print(\"Ah ah ah ah events is happening after the function is called.\")\n",
        "    return wrapper\n",
        "\n",
        "@my_decorator\n",
        "def say_hello():\n",
        "    print(\"Hello!\")"
      ],
      "metadata": {
        "id": "JMzM0W_hg-uF"
      },
      "execution_count": null,
      "outputs": []
    },
    {
      "cell_type": "code",
      "source": [
        "say_hello()"
      ],
      "metadata": {
        "colab": {
          "base_uri": "https://localhost:8080/"
        },
        "id": "MAAyMbcHg-54",
        "outputId": "ace66388-8f1c-4ad3-a524-147ba379f04d"
      },
      "execution_count": null,
      "outputs": [
        {
          "output_type": "stream",
          "name": "stdout",
          "text": [
            "So so so so events is happening before the function is called.\n",
            "Hello!\n",
            "Ah ah ah ah events is happening after the function is called.\n"
          ]
        }
      ]
    },
    {
      "cell_type": "code",
      "source": [
        "#Example 2 of Decorator\n",
        "\n",
        "import time #In one of the previous class, we have discussed about importing module\n",
        "\n",
        "def timer(func):\n",
        "  \"\"\" This defines a decorator function named timer that takes another function func as an argument. \"\"\"\n",
        "    def wrapper(*args, **kwargs): #\n",
        "        \"\"\" Inside the timer function, a nested function named wrapper is defined \"\"\"\n",
        "        start_time = time.time()   #current time is stored in the start_time variable using time.time()\n",
        "        result = func(*args, **kwargs)\n",
        "        end_time = time.time()\n",
        "        print(f\"{func.__name__} took {end_time - start_time} seconds to run.\")\n",
        "        return result\n",
        "    return wrapper\n",
        "\n"
      ],
      "metadata": {
        "id": "HStHP6nHg--D"
      },
      "execution_count": null,
      "outputs": []
    },
    {
      "cell_type": "code",
      "source": [
        "@timer\n",
        "def sleep_func(seconds):\n",
        "    time.sleep(seconds)\n",
        "\n"
      ],
      "metadata": {
        "id": "xbQfX7ayg_HK"
      },
      "execution_count": null,
      "outputs": []
    },
    {
      "cell_type": "code",
      "source": [
        "sleep_func(5)"
      ],
      "metadata": {
        "colab": {
          "base_uri": "https://localhost:8080/"
        },
        "id": "LwnkiXaVnN1t",
        "outputId": "796c97b3-29da-4a59-ce45-5f31e6c1a924"
      },
      "execution_count": null,
      "outputs": [
        {
          "output_type": "stream",
          "name": "stdout",
          "text": [
            "sleep_func took 5.00615930557251 seconds to run.\n"
          ]
        }
      ]
    },
    {
      "cell_type": "code",
      "source": [
        "#Example 3 of Decorator\n",
        "\n",
        "def debug(func):\n",
        "  \"\"\"  A decorator that prints function arguments before execution.  \"\"\"\n",
        "  def wrapper(*args, **kwargs):\n",
        "    print(f\"Calling {func.__name__} with arguments {args} and keyword arguments {kwargs}\")\n",
        "    return func(*args, **kwargs)\n",
        "  return wrapper\n",
        "\n",
        "@debug\n",
        "def calculate_area(length, width):\n",
        "  \"\"\" Calculates the area of a rectangle.\"\"\"\n",
        "\n",
        "  return length * width\n",
        "\n"
      ],
      "metadata": {
        "id": "Noe4r_92rwtT"
      },
      "execution_count": null,
      "outputs": []
    },
    {
      "cell_type": "code",
      "source": [
        "# Call the decorated function\n",
        "area = calculate_area(5, 10)\n",
        "print(f\"Area: {area}\")"
      ],
      "metadata": {
        "colab": {
          "base_uri": "https://localhost:8080/"
        },
        "id": "p909OTmur4Jb",
        "outputId": "b98b74c9-01ad-4c68-f768-bbc6f1fc587c"
      },
      "execution_count": null,
      "outputs": [
        {
          "output_type": "stream",
          "name": "stdout",
          "text": [
            "Calling calculate_area with arguments (5, 10) and keyword arguments {}\n",
            "Area: 50\n"
          ]
        }
      ]
    },
    {
      "cell_type": "markdown",
      "source": [
        "**Home Work**\n",
        "\n",
        "1. Write a function create_multiplier that returns a closure that multiplies its input by a fixed number (e.g., create_multiplier(3) returns a closure that multiplies by 3).\n",
        "\n",
        "2. Create a decorator @register that logs the input arguments and return value of a function.\n",
        "3. Create a decorator @cache that memoizes the results of a function using a closure."
      ],
      "metadata": {
        "id": "-ocTgQHlwyQb"
      }
    }
  ]
}